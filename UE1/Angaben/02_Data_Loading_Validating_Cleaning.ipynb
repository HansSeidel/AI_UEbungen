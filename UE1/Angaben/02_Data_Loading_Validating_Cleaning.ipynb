{
 "cells": [
  {
   "cell_type": "markdown",
   "metadata": {},
   "source": [
    "Some Data Loading/Validating/Cleaning Basics (iPython Notebook)\n",
    "======================================================="
   ]
  },
  {
   "cell_type": "code",
   "execution_count": null,
   "metadata": {},
   "outputs": [],
   "source": [
    "# load most relevant packages: NumPy, Pandas and some plotting libs\n",
    "import pandas as pd\n",
    "import numpy as np\n",
    "import matplotlib.pyplot as plt\n",
    "import seaborn as sns\n",
    "%matplotlib inline"
   ]
  },
  {
   "cell_type": "markdown",
   "metadata": {},
   "source": [
    "## Load the Task Data\n",
    "\n",
    "Load the `02_task_data.csv` dataset (data description in task_data_description.txt)."
   ]
  },
  {
   "cell_type": "code",
   "execution_count": null,
   "metadata": {},
   "outputs": [],
   "source": [
    "# display content of the cufrent directory (use \"ls\" on Unix based systems!)\n",
    "#!dir"
   ]
  },
  {
   "cell_type": "code",
   "execution_count": null,
   "metadata": {
    "scrolled": true
   },
   "outputs": [],
   "source": [
    "# display content of txt file (use \"cat\" on Unix based systems!)\n",
    "!type 02_task_data_description.txt"
   ]
  },
  {
   "cell_type": "code",
   "execution_count": null,
   "metadata": {},
   "outputs": [],
   "source": [
    "# Unix only: show header of the CSV file\n",
    "#!head 02_task_data.csv"
   ]
  },
  {
   "cell_type": "code",
   "execution_count": null,
   "metadata": {
    "scrolled": true
   },
   "outputs": [],
   "source": [
    "df = pd.read_csv('02_task_data.csv', index_col='Id')\n",
    "df.info()"
   ]
  },
  {
   "cell_type": "code",
   "execution_count": null,
   "metadata": {
    "scrolled": true
   },
   "outputs": [],
   "source": [
    "df.head()"
   ]
  },
  {
   "cell_type": "markdown",
   "metadata": {},
   "source": [
    "## Data Types and Measurement Scales\n",
    "\n",
    "Select at least 2 features with nominal scale, 1 with dichotomous scale, 2 with ordinal scale, 2 with discrete numeric scale, and 2 with numeric continuous scale.\n",
    "\n",
    "### Nominal Scale\n",
    "\n",
    "1. Neighborhood: Physical locations within Ames city limits\n",
    "    - Blmngtn Bloomington Heights\n",
    "    - Blueste Bluestem\n",
    "    - BrDale Briardale\n",
    "    - BrkSide Brookside\n",
    "    - ClearCr Clear Creek\n",
    "    - CollgCr College Creek\n",
    "    - Crawfor Crawford\n",
    "    - Edwards Edwards\n",
    "    - Gilbert Gilbert\n",
    "    - IDOTRR Iowa DOT and Rail Road\n",
    "    - MeadowV Meadow Village\n",
    "    - Mitchel Mitchell\n",
    "    - Names North Ames\n",
    "    - NoRidge Northridge\n",
    "    - NPkVill Northpark Villa\n",
    "    - NridgHt Northridge Heights\n",
    "    - NWAmes Northwest Ames\n",
    "    - OldTown Old Town\n",
    "    - SWISU South & West of Iowa State University\n",
    "    - Sawyer Sawyer\n",
    "    - SawyerW Sawyer West\n",
    "    - Somerst Somerset\n",
    "    - StoneBr Stone Brook\n",
    "    - Timber Timberland\n",
    "    - Veenker Veenker\n",
    "2. MSZoning: Identifies the general zoning classification of the sale.\n",
    "    - A Agriculture\n",
    "    - C Commercial\n",
    "    - FV Floating Village Residential\n",
    "    - I Industrial\n",
    "    - RH Residential High Density\n",
    "    - RL Residential Low Density\n",
    "    - RP Residential Low Density Park\n",
    "    - RM Residential Medium Density\n",
    "\n",
    "### Dichotomous Scale\n",
    "\n",
    "1. CentralAir: Central air conditioning\n",
    "    - N No\n",
    "    - Y Yes\n",
    "\n",
    "### Ordinal Scale\n",
    "\n",
    "1. LotShape: General shape of property\n",
    "    - Reg Regular\n",
    "    - IR1 Slightly irregular\n",
    "    - IR2 Moderately Irregular\n",
    "    - IR3 Irregular\n",
    "2. Utilities: Type of utilities available\n",
    "    - AllPub All public Utilities (E,G,W,& S)\t\n",
    "    - NoSewr Electricity, Gas, and Water (Septic Tank)\n",
    "    - NoSeWa Electricity and Gas Only\n",
    "    - ELO Electricity only\n",
    "\n",
    "### Discrete Numeric Scale\n",
    "\n",
    "1. Fireplaces: Number of fireplaces\n",
    "2. YearBuilt: Original construction date\n",
    "\n",
    "### Numeric Continuous Scale\n",
    "\n",
    "1. LotFrontage: Linear feet of street connected to property\n",
    "2. LotArea: Lot size in square feet"
   ]
  },
  {
   "cell_type": "markdown",
   "metadata": {},
   "source": [
    "## Domains Validation\n",
    "\n",
    "Validate domains of all features selected in previous step."
   ]
  },
  {
   "cell_type": "code",
   "execution_count": null,
   "metadata": {},
   "outputs": [],
   "source": [
    "features = ['Neighborhood', 'MSZoning', 'CentralAir', 'LotShape', 'Utilities', 'Fireplaces',\n",
    "            'YearBuilt', 'LotFrontage', 'LotArea']"
   ]
  },
  {
   "cell_type": "code",
   "execution_count": null,
   "metadata": {
    "scrolled": true
   },
   "outputs": [],
   "source": [
    "for feature in features:\n",
    "    print(feature, df[feature].unique())"
   ]
  },
  {
   "cell_type": "markdown",
   "metadata": {},
   "source": [
    "All values follow the data description file.\n",
    "There are only minor but consistent differences.\n",
    "For example 'C' in data description is 'C (all)' in data.\n",
    "Also some cases differ e.g. 'NAmes' vs. 'Names'."
   ]
  },
  {
   "cell_type": "code",
   "execution_count": null,
   "metadata": {
    "scrolled": false
   },
   "outputs": [],
   "source": [
    "for feature in ['YearBuilt', 'LotFrontage', 'LotArea']:\n",
    "    print(df[feature].describe(), '\\n')"
   ]
  },
  {
   "cell_type": "markdown",
   "metadata": {},
   "source": [
    "Numerical values are also in valid domains."
   ]
  },
  {
   "cell_type": "markdown",
   "metadata": {},
   "source": [
    "## Format Conversion\n",
    "\n",
    "Convert them to proper format."
   ]
  },
  {
   "cell_type": "code",
   "execution_count": null,
   "metadata": {},
   "outputs": [],
   "source": [
    "df['Neighborhood'] = df['Neighborhood'].astype('category', ordered=True)\n",
    "df['MSZoning'] = df['MSZoning'].astype('category', ordered=True)\n",
    "df['CentralAir'] = df['CentralAir'].astype('category', ordered=True)\n",
    "df['LotShape'] = df['LotShape'].astype('category', ordered=True, categories=['Reg', 'IR1', 'IR2', 'IR3'])\n",
    "df['Utilities'] = df['Utilities'].astype('category', ordered=True, categories=['AllPub', 'NoSewr', 'NoSeWa', 'ELO'])\n",
    "df['LotArea'] = df['LotArea'].astype('float64')"
   ]
  },
  {
   "cell_type": "code",
   "execution_count": null,
   "metadata": {
    "scrolled": true
   },
   "outputs": [],
   "source": [
    "df[features].dtypes"
   ]
  },
  {
   "cell_type": "markdown",
   "metadata": {},
   "source": [
    "## Outliers Detection\n",
    "\n",
    "Try to detect some outliers (use GrLivArea and SalePrice)."
   ]
  },
  {
   "cell_type": "code",
   "execution_count": null,
   "metadata": {
    "scrolled": true
   },
   "outputs": [],
   "source": [
    "# look at the boxplots of both variables (dispersion of data)\n",
    "fig, (ax1, ax2) = plt.subplots(ncols=2)\n",
    "df['GrLivArea'].plot.box(ax=ax1)\n",
    "df['SalePrice'].plot.box(ax=ax2)\n",
    "fig.tight_layout()"
   ]
  },
  {
   "cell_type": "markdown",
   "metadata": {},
   "source": [
    "How to interprete a boxplot?\n",
    "* min/max values\n",
    "* median, 2nd quartile (25%), 3rd quartile (75%)\n",
    "* whiskers are at +/-1.5 of the IQR (interquartile range) - everything outside this is an outlier"
   ]
  },
  {
   "cell_type": "code",
   "execution_count": null,
   "metadata": {},
   "outputs": [],
   "source": [
    "# draw a scatterplot\n",
    "sns.jointplot(x='GrLivArea', y='SalePrice', data=df)"
   ]
  },
  {
   "cell_type": "markdown",
   "metadata": {},
   "source": [
    "Plot of two variables; useful for examining/visualizing dependencies between these variables"
   ]
  },
  {
   "cell_type": "code",
   "execution_count": null,
   "metadata": {},
   "outputs": [],
   "source": [
    "# Plot the distribution with a histogram and maximum likelihood gaussian distribution fit (for live area)\n",
    "sns.distplot(df['GrLivArea'], rug=True)"
   ]
  },
  {
   "cell_type": "code",
   "execution_count": null,
   "metadata": {
    "scrolled": true
   },
   "outputs": [],
   "source": [
    "# Plot the distribution with a histogram and maximum likelihood gaussian distribution fit (for sale price)\n",
    "sns.distplot(df['SalePrice'], rug=True)"
   ]
  },
  {
   "cell_type": "code",
   "execution_count": null,
   "metadata": {},
   "outputs": [],
   "source": [
    "df[df['SalePrice'] > 700000]"
   ]
  },
  {
   "cell_type": "markdown",
   "metadata": {},
   "source": [
    "I detected the four samples below as outliers. Because they have much higher GrLivArea\n",
    "(Above grade (ground) living area square feet).\n",
    "Two of them are abnormally expesive and the other two were sold when not fully completed.\n",
    "\n",
    "On the other hand. The two with high sale price follow the trend which shows the scatter plot.\n",
    "Correlation between GrLivArea and SalePrice is 0.71 (shown in the scatter plot).\n",
    "And if the two other were sold when completed they might be expensive."
   ]
  },
  {
   "cell_type": "code",
   "execution_count": null,
   "metadata": {},
   "outputs": [],
   "source": [
    "with pd.option_context('display.max_columns', None):\n",
    "    print(df[df['GrLivArea'] > 4000])"
   ]
  },
  {
   "cell_type": "markdown",
   "metadata": {},
   "source": [
    "## Missing Data\n",
    "\n",
    "Determine all features with missing data.\n",
    "Find a feature that should be completely droped from further analysis.\n",
    "Select a feature with reasonable small portion of missing values (but with at least 5) and try to fill it properly."
   ]
  },
  {
   "cell_type": "code",
   "execution_count": null,
   "metadata": {
    "scrolled": false
   },
   "outputs": [],
   "source": [
    "# features with missing data\n",
    "fearutres_with_nan = df.columns[df.isnull().any()].tolist()\n",
    "print('Number of samples:', df.shape[0])\n",
    "df[fearutres_with_nan].isnull().sum().sort_values(ascending=False)"
   ]
  },
  {
   "cell_type": "markdown",
   "metadata": {},
   "source": [
    "### Dropped Feature\n",
    "\n",
    "Feature that should be completely droped from further analysis: LotFrontage (Linear feet of street connected to property)\n",
    "\n",
    "It might seem that PoolQC, MiscFeature, Alley, Fence, FireplaceQu features have more missing values but in these cases missing values ussualy mean that the feature is not available (e.g. Fence is not available)."
   ]
  },
  {
   "cell_type": "code",
   "execution_count": null,
   "metadata": {},
   "outputs": [],
   "source": [
    "del df['LotFrontage']"
   ]
  },
  {
   "cell_type": "markdown",
   "metadata": {},
   "source": [
    "### Filling `MasVnrType` Feature"
   ]
  },
  {
   "cell_type": "code",
   "execution_count": null,
   "metadata": {
    "scrolled": true
   },
   "outputs": [],
   "source": [
    "# apply operation to all rows of a column (here: multiply by 100)\n",
    "df['MasVnrType'].value_counts(normalize=True).mul(100)"
   ]
  },
  {
   "cell_type": "markdown",
   "metadata": {},
   "source": [
    "As almost 60% of MasVnrType is of value None it's reasonable to claim that the missing values might be set to None. Then MasVnrArea might be also set to 0."
   ]
  },
  {
   "cell_type": "code",
   "execution_count": null,
   "metadata": {
    "scrolled": true
   },
   "outputs": [],
   "source": [
    "df.loc[df['MasVnrType'].isnull(), ['MasVnrType', 'MasVnrArea']] = ('None', 0)\n",
    "df[['MasVnrType', 'MasVnrArea']].isnull().sum()"
   ]
  },
  {
   "cell_type": "markdown",
   "metadata": {},
   "source": [
    "### Exercise 2:\n",
    "#### (1) Load the data-set '02_dow_jones_index.data' using pandas ('02_dow_jones_index.names' contains a description of the data).\n",
    "#### (2) Validate the numerical columns in the following ways: (a) list all values of the columns with non-numerical values and their occurrences (use a dictionary); (b) convert share prices to floats (spoiler alert: df\\['open'\\] = df\\['open'\\].str.strip('$').astype('float64') ); (c) look at the dispersion of the columns with numerical values (7-number-summary and/or boxplot)\n",
    "#### (3) Check if all rows are in the proper chronological order and fix the order if necessary. Correct the date (spoiler alert: df\\['date_corr'\\] = pd.to_datetime(df\\['date'\\]) ) and plot the chart of the closing stock price for the Cisco share.\n",
    "#### (4) Add a column with the absolute difference between highest and lowest stock price of this day."
   ]
  },
  {
   "cell_type": "code",
   "execution_count": null,
   "metadata": {},
   "outputs": [],
   "source": []
  }
 ],
 "metadata": {
  "kernelspec": {
   "display_name": "Python 3",
   "language": "python",
   "name": "python3"
  },
  "language_info": {
   "codemirror_mode": {
    "name": "ipython",
    "version": 3
   },
   "file_extension": ".py",
   "mimetype": "text/x-python",
   "name": "python",
   "nbconvert_exporter": "python",
   "pygments_lexer": "ipython3",
   "version": "3.7.9"
  }
 },
 "nbformat": 4,
 "nbformat_minor": 2
}
