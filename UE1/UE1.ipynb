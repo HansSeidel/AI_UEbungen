{
 "cells": [
  {
   "cell_type": "code",
   "execution_count": 72,
   "metadata": {
    "scrolled": true
   },
   "outputs": [
    {
     "name": "stdout",
     "output_type": "stream",
     "text": [
      "12\n",
      "Wall time: 0 ns\n",
      "INFO: String was ignored by function\n",
      "12\n",
      "Wall time: 0 ns\n",
      "72\n",
      "Wall time: 0 ns\n",
      "24\n",
      "Wall time: 0 ns\n",
      "INFO: String was ignored by function\n",
      "360\n",
      "Wall time: 0 ns\n",
      "INFO: String was ignored by function\n",
      "1\n",
      "Wall time: 0 ns\n",
      "1\n",
      "Wall time: 0 ns\n",
      "4\n",
      "Wall time: 0 ns\n"
     ]
    }
   ],
   "source": [
    "from collections.abc import Iterable\n",
    "#Checking types\n",
    "c = \"Hello world\"\n",
    "e = [1, 2, 3]\n",
    "f = (1, 2, 3)\n",
    "g = {1, 1, 1, 2}\n",
    "h = {1: 10, 2: 'Two', 3: 3}\n",
    "SHOW_INFO = 1 #true\n",
    "SHOW_WARNING = 0 #false\n",
    "\n",
    "def multiply(*args):\n",
    "    #Keep in mind: This method doesn't prevent endless loops.\n",
    "    result = 1\n",
    "    #Perfomance technical if\n",
    "    if len(args) <= 1:\n",
    "        if len(args) == 0:\n",
    "            if SHOW_WARNING: print(\"WARNING: Actually result is zero. Out of safety reasons this function returns 1.\")\n",
    "            return 1\n",
    "        else:\n",
    "            if type(args[0]) is str:\n",
    "                    if SHOW_INFO: print(\"INFO: String was ignored by function\")\n",
    "                    if SHOW_WARNING: print(\"WARNING: Actually result is zero. Out of safety reasons this function returns 1.\")\n",
    "                    return 1;\n",
    "            else:\n",
    "                if isinstance(args[0], Iterable):\n",
    "                    args = args[0]\n",
    "                else:\n",
    "                    return args[0]\n",
    "    for item in args:\n",
    "        if type(args) is dict:\n",
    "            item = args[item]\n",
    "        if type(item) is str:\n",
    "            if SHOW_INFO: print(\"INFO: String was ignored by function\")\n",
    "        else:\n",
    "            if type(item) is dict:\n",
    "                result *= multiply(item)\n",
    "            else:\n",
    "                if type(item) is tuple or type(item) is list:\n",
    "                    result *= multiply(item)\n",
    "                else:\n",
    "                    if type(item) is set:\n",
    "                        if SHOW_WARNING: print(\"WARNING: Multiplying a set will not multiply duplicates\")\n",
    "                        result *= multiply(item)\n",
    "                    else:\n",
    "                        result *= item\n",
    "    return result\n",
    "\n",
    "a = 3\n",
    "b = 4\n",
    "\n",
    "\n",
    "%time print(multiply(a,b))  #12\n",
    "%time print(multiply(a,b,c))#12\n",
    "%time print(multiply(a,b,e))#72\n",
    "%time print(multiply(a,b,g))#24\n",
    "%time print(multiply(a,b,h))#360\n",
    "%time print(multiply(\"asd\")) #0\n",
    "%time print(multiply()) #0\n",
    "%time print(multiply(b))#4"
   ]
  },
  {
   "cell_type": "code",
   "execution_count": 57,
   "metadata": {},
   "outputs": [
    {
     "name": "stdout",
     "output_type": "stream",
     "text": [
      "1\n",
      "1\n",
      "2\n",
      "3\n"
     ]
    }
   ],
   "source": [
    "a = [1, 1, 2, 3, 5, 8, 13, 21, 34, 55, 89]\n",
    "\n",
    "def print_below_list(limiter, var_list):\n",
    "    for item in var_list:\n",
    "        if item < limiter: print(item)\n",
    "            \n",
    "print_below_list(5,a)\n",
    "    "
   ]
  },
  {
   "cell_type": "code",
   "execution_count": 61,
   "metadata": {},
   "outputs": [
    {
     "name": "stdout",
     "output_type": "stream",
     "text": [
      "a is:  [43, 69, 84, 16, 4, 1, 25, 61, 93, 42]\n",
      "b is:  [40, 93, 49, 24, 15, 77, 16, 14, 36, 50, 38, 46]\n",
      "20 ,  22\n",
      "[1, 4, 14, 15, 16, 24, 25, 36, 38, 40, 42, 43, 46, 49, 50, 61, 69, 77, 84, 93]\n"
     ]
    }
   ],
   "source": [
    "import random\n",
    "a = random.sample(range(1, 100), 10)\n",
    "b = random.sample(range(1, 100), 12)\n",
    "print (\"a is: \", a)\n",
    "print (\"b is: \", b)\n",
    "\n",
    "def combine_and_unified_list(list_a,list_b):\n",
    "    return list(set(list_a+list_b))\n",
    "\n",
    "combined_list = combine_and_unified_list(a,b)\n",
    "print(len(combined_list),\", \",(len(a)+(len(b))))\n",
    "print(combined_list)\n",
    "      "
   ]
  },
  {
   "cell_type": "code",
   "execution_count": 64,
   "metadata": {},
   "outputs": [
    {
     "name": "stdout",
     "output_type": "stream",
     "text": [
      "93\n"
     ]
    }
   ],
   "source": [
    "def getMax(*args):\n",
    "    result = args[0];\n",
    "    for item in args:\n",
    "        result = item > result and item or result\n",
    "    return result\n",
    "\n",
    "print(getMax(43, 69, 84, 16, 4, 1, 25, 61, 93, 42))"
   ]
  },
  {
   "cell_type": "code",
   "execution_count": 70,
   "metadata": {},
   "outputs": [
    {
     "name": "stdout",
     "output_type": "stream",
     "text": [
      "WARNING: Ignoring item. Type[s] of one or more arguments are not supported. Expected: <class 'dict'>\n",
      "{1: 10, 2: 20, 3: 30, 4: 40, 5: 50, 6: 60}\n"
     ]
    }
   ],
   "source": [
    "dic1={1:10, 2:20}\n",
    "dic2={3:30, 4:40}\n",
    "dic3={5:50, 6:60}\n",
    "\n",
    "def combine_dicts(*dicts):\n",
    "    result = dict()\n",
    "    for item in dicts:\n",
    "        if(type(item) is dict):\n",
    "            result.update(item)\n",
    "        else:\n",
    "            print(\"WARNING: Ignoring item. Type[s] of one or more arguments are not supported. Expected: <class 'dict'>\")\n",
    "    return result\n",
    "\n",
    "print(combine_dicts(dic1,dic2,dic3,\"lol\"))\n",
    "            "
   ]
  },
  {
   "cell_type": "code",
   "execution_count": 78,
   "metadata": {},
   "outputs": [
    {
     "ename": "UnboundLocalError",
     "evalue": "local variable 'warning' referenced before assignment",
     "output_type": "error",
     "traceback": [
      "\u001b[1;31m---------------------------------------------------------------------------\u001b[0m",
      "\u001b[1;31mUnboundLocalError\u001b[0m                         Traceback (most recent call last)",
      "\u001b[1;32m<ipython-input-78-7da2c4e1bd8b>\u001b[0m in \u001b[0;36m<module>\u001b[1;34m\u001b[0m\n\u001b[0;32m     53\u001b[0m \u001b[1;31m#END_OF_DEF\u001b[0m\u001b[1;33m\u001b[0m\u001b[1;33m\u001b[0m\u001b[1;33m\u001b[0m\u001b[0m\n\u001b[0;32m     54\u001b[0m \u001b[1;33m\u001b[0m\u001b[0m\n\u001b[1;32m---> 55\u001b[1;33m \u001b[0mprint\u001b[0m\u001b[1;33m(\u001b[0m\u001b[0msort_dictonary_list_after_key_by_alphabet\u001b[0m\u001b[1;33m(\u001b[0m\u001b[1;34m'Nachname'\u001b[0m\u001b[1;33m,\u001b[0m\u001b[0mmy_list\u001b[0m\u001b[1;33m)\u001b[0m\u001b[1;33m)\u001b[0m\u001b[1;33m\u001b[0m\u001b[1;33m\u001b[0m\u001b[0m\n\u001b[0m\u001b[0;32m     56\u001b[0m \u001b[1;33m\u001b[0m\u001b[0m\n\u001b[0;32m     57\u001b[0m \u001b[1;33m\u001b[0m\u001b[0m\n",
      "\u001b[1;32m<ipython-input-78-7da2c4e1bd8b>\u001b[0m in \u001b[0;36msort_dictonary_list_after_key_by_alphabet\u001b[1;34m(key, var_list, show_warning)\u001b[0m\n\u001b[0;32m     28\u001b[0m \u001b[1;33m\u001b[0m\u001b[0m\n\u001b[0;32m     29\u001b[0m \u001b[1;32mdef\u001b[0m \u001b[0msort_dictonary_list_after_key_by_alphabet\u001b[0m\u001b[1;33m(\u001b[0m\u001b[0mkey\u001b[0m\u001b[1;33m,\u001b[0m\u001b[0mvar_list\u001b[0m\u001b[1;33m,\u001b[0m\u001b[0mshow_warning\u001b[0m \u001b[1;33m=\u001b[0m \u001b[1;36m0\u001b[0m\u001b[1;33m)\u001b[0m\u001b[1;33m:\u001b[0m\u001b[1;33m\u001b[0m\u001b[1;33m\u001b[0m\u001b[0m\n\u001b[1;32m---> 30\u001b[1;33m     \u001b[0mcheck_value\u001b[0m \u001b[1;33m=\u001b[0m \u001b[0m_check_format\u001b[0m\u001b[1;33m(\u001b[0m\u001b[0mkey\u001b[0m\u001b[1;33m,\u001b[0m\u001b[0mvar_list\u001b[0m\u001b[1;33m,\u001b[0m\u001b[0mshow_warning\u001b[0m\u001b[1;33m)\u001b[0m\u001b[1;33m\u001b[0m\u001b[1;33m\u001b[0m\u001b[0m\n\u001b[0m\u001b[0;32m     31\u001b[0m     \u001b[1;32mif\u001b[0m \u001b[0mcheck_value\u001b[0m\u001b[1;33m[\u001b[0m\u001b[1;36m0\u001b[0m\u001b[1;33m]\u001b[0m \u001b[1;33m<\u001b[0m \u001b[1;36m0\u001b[0m\u001b[1;33m:\u001b[0m\u001b[1;33m\u001b[0m\u001b[1;33m\u001b[0m\u001b[0m\n\u001b[0;32m     32\u001b[0m         \u001b[0mprint\u001b[0m\u001b[1;33m(\u001b[0m\u001b[1;34m\"Detected wrong Format: \"\u001b[0m\u001b[1;33m,\u001b[0m\u001b[0mcheck_value\u001b[0m\u001b[1;33m[\u001b[0m\u001b[1;36m1\u001b[0m\u001b[1;33m]\u001b[0m\u001b[1;33m)\u001b[0m\u001b[1;33m\u001b[0m\u001b[1;33m\u001b[0m\u001b[0m\n",
      "\u001b[1;32m<ipython-input-78-7da2c4e1bd8b>\u001b[0m in \u001b[0;36m_check_format\u001b[1;34m(key, var_list, show_warnings)\u001b[0m\n\u001b[0;32m     21\u001b[0m     \u001b[1;32mif\u001b[0m \u001b[0mtype\u001b[0m\u001b[1;33m(\u001b[0m\u001b[0mvar_list\u001b[0m\u001b[1;33m)\u001b[0m \u001b[1;32mis\u001b[0m \u001b[1;32mnot\u001b[0m \u001b[0mlist\u001b[0m\u001b[1;33m:\u001b[0m \u001b[1;32mreturn\u001b[0m \u001b[1;33m[\u001b[0m\u001b[1;33m-\u001b[0m\u001b[1;36m1\u001b[0m\u001b[1;33m,\u001b[0m\u001b[1;33m(\u001b[0m\u001b[1;34m\"ERR: Wrong argument type. Expected: <class 'list'> but detected: \"\u001b[0m\u001b[1;33m,\u001b[0m\u001b[0mtype\u001b[0m\u001b[1;33m(\u001b[0m\u001b[0mvar_list\u001b[0m\u001b[1;33m)\u001b[0m\u001b[1;33m)\u001b[0m\u001b[1;33m]\u001b[0m\u001b[1;33m\u001b[0m\u001b[1;33m\u001b[0m\u001b[0m\n\u001b[0;32m     22\u001b[0m     \u001b[1;32mfor\u001b[0m \u001b[0mitem\u001b[0m \u001b[1;32min\u001b[0m \u001b[0mvar_list\u001b[0m\u001b[1;33m:\u001b[0m\u001b[1;33m\u001b[0m\u001b[1;33m\u001b[0m\u001b[0m\n\u001b[1;32m---> 23\u001b[1;33m         \u001b[1;32mif\u001b[0m \u001b[0m_check_item\u001b[0m\u001b[1;33m(\u001b[0m\u001b[0mkey\u001b[0m\u001b[1;33m,\u001b[0m\u001b[0mvar_list\u001b[0m\u001b[1;33m,\u001b[0m\u001b[0mshow_warnings\u001b[0m\u001b[1;33m)\u001b[0m \u001b[1;33m==\u001b[0m \u001b[1;33m-\u001b[0m\u001b[1;36m1\u001b[0m\u001b[1;33m:\u001b[0m\u001b[1;33m\u001b[0m\u001b[1;33m\u001b[0m\u001b[0m\n\u001b[0m\u001b[0;32m     24\u001b[0m             \u001b[0mwarning\u001b[0m \u001b[1;33m+=\u001b[0m \u001b[1;36m1\u001b[0m\u001b[1;33m\u001b[0m\u001b[1;33m\u001b[0m\u001b[0m\n\u001b[0;32m     25\u001b[0m \u001b[1;33m\u001b[0m\u001b[0m\n",
      "\u001b[1;32m<ipython-input-78-7da2c4e1bd8b>\u001b[0m in \u001b[0;36m_check_item\u001b[1;34m(key, item, show_warnings)\u001b[0m\n\u001b[0;32m      6\u001b[0m \u001b[1;32mdef\u001b[0m \u001b[0m_check_item\u001b[0m\u001b[1;33m(\u001b[0m\u001b[0mkey\u001b[0m\u001b[1;33m,\u001b[0m\u001b[0mitem\u001b[0m\u001b[1;33m,\u001b[0m\u001b[0mshow_warnings\u001b[0m \u001b[1;33m=\u001b[0m \u001b[1;36m0\u001b[0m\u001b[1;33m)\u001b[0m\u001b[1;33m:\u001b[0m\u001b[1;33m\u001b[0m\u001b[1;33m\u001b[0m\u001b[0m\n\u001b[0;32m      7\u001b[0m     \u001b[1;32mif\u001b[0m \u001b[0mtype\u001b[0m\u001b[1;33m(\u001b[0m\u001b[0mitem\u001b[0m\u001b[1;33m)\u001b[0m \u001b[1;32mis\u001b[0m \u001b[1;32mnot\u001b[0m \u001b[0mdict\u001b[0m\u001b[1;33m:\u001b[0m\u001b[1;33m\u001b[0m\u001b[1;33m\u001b[0m\u001b[0m\n\u001b[1;32m----> 8\u001b[1;33m         \u001b[0mwarning\u001b[0m \u001b[1;33m+=\u001b[0m \u001b[1;36m1\u001b[0m\u001b[1;33m\u001b[0m\u001b[1;33m\u001b[0m\u001b[0m\n\u001b[0m\u001b[0;32m      9\u001b[0m         \u001b[1;32mif\u001b[0m \u001b[0mshow_warnings\u001b[0m\u001b[1;33m:\u001b[0m \u001b[0mprint\u001b[0m\u001b[1;33m(\u001b[0m\u001b[1;34m\"WARNING: Ignoring item. Argument type is not supported. Expected: <class 'dict'> but detected: \"\u001b[0m\u001b[1;33m,\u001b[0m\u001b[0mtype\u001b[0m\u001b[1;33m(\u001b[0m\u001b[0mitem\u001b[0m\u001b[1;33m)\u001b[0m\u001b[1;33m)\u001b[0m\u001b[1;33m\u001b[0m\u001b[1;33m\u001b[0m\u001b[0m\n\u001b[0;32m     10\u001b[0m         \u001b[1;32mreturn\u001b[0m \u001b[1;33m-\u001b[0m\u001b[1;36m1\u001b[0m\u001b[1;33m\u001b[0m\u001b[1;33m\u001b[0m\u001b[0m\n",
      "\u001b[1;31mUnboundLocalError\u001b[0m: local variable 'warning' referenced before assignment"
     ]
    }
   ],
   "source": [
    "#Beeing confuse by the task. Task is to sort a list alphabetically. Doing the written task and ignoring the example list (Which isn't even a list)\n",
    "#num = {'n1': [2, 3, 1], 'n2': [5, 1, 2], 'n3': [3, 2, 4]}\n",
    "my_list = [{'Nachname':'Henry','Vorname':'Elara'},{'Nachname':'Espinosa','Vorname':'Hussein '},{'Nachname':'Jennings','Vorname':'Susan'},{'Nachname':'Chung','Vorname':'Leena'},{'Nachname':'Zuniga','Vorname':'Zak'}]\n",
    "my_wrong_list =({'Nachname':'','Vorname':'Elara'},{'Nachname':'Espinosa','Vorname':'Hussein '})\n",
    "\n",
    "def _check_item(key,item,show_warnings = 0):\n",
    "    if type(item) is not dict:\n",
    "        warning += 1\n",
    "        if show_warnings: print(\"WARNING: Ignoring item. Argument type is not supported. Expected: <class 'dict'> but detected: \",type(item))\n",
    "        return -1   \n",
    "    else:\n",
    "        if(type(item[key]) is not str):\n",
    "            warning += 1\n",
    "            if show_warnings:print(\"WARNING: Ignoring item. Argument type is not supported. Expected: <class 'string'> but detected: \",type(item[key]))\n",
    "            return -1\n",
    "    return 0\n",
    "#END_OF_DEF\n",
    "                    \n",
    "def _check_format(key,var_list,show_warnings = 0):\n",
    "    warning = 0\n",
    "    if type(var_list) is not list: return [-1,(\"ERR: Wrong argument type. Expected: <class 'list'> but detected: \",type(var_list))]\n",
    "    for item in var_list:\n",
    "        if _check_item(key,var_list,show_warnings) == -1:\n",
    "            warning += 1\n",
    "\n",
    "    return [warning,(\"INFO: Detected warnings! Count: \",warning)]\n",
    "#END_OF_DEF\n",
    "\n",
    "def sort_dictonary_list_after_key_by_alphabet(key,var_list,show_warning = 0):\n",
    "    check_value = _check_format(key,var_list,show_warning)\n",
    "    if check_value[0] < 0:\n",
    "        print(\"Detected wrong Format: \",check_value[1])\n",
    "        print(\"Argument var_list requires format: ({'Key':'Value','Key':'Value'},{}) / <class 'list'>(<class 'dict'><class 'dict'>)\")\n",
    "        print(\"Cancelling function\")\n",
    "        return check_value[0]\n",
    "    elif check_value[0] > 0:\n",
    "        print(check_value[1]);\n",
    "        print(\"To show warning[s] add argument(<class 'int'>) '1' at the end\")\n",
    "        print(\"Continuing function\")\n",
    "    else:\n",
    "        result = [];\n",
    "        wrong_formats = [];\n",
    "        for local_dict in var_list:\n",
    "            if _check_item(key,var_list) == 0:result.append(local_dict[key])\n",
    "        result.sort()\n",
    "        for item in result:\n",
    "            for local_dict in var_list:\n",
    "                if(local_dict[key] == item):\n",
    "                    item = local_dict\n",
    "                    break\n",
    "        return result + wrong_formats\n",
    "    return \"Congratulation, you reached unreachable code\"\n",
    "#END_OF_DEF\n",
    "\n",
    "print(sort_dictonary_list_after_key_by_alphabet('Nachname',my_list))\n",
    "        \n",
    "    \n",
    "    "
   ]
  },
  {
   "cell_type": "code",
   "execution_count": null,
   "metadata": {},
   "outputs": [],
   "source": []
  }
 ],
 "metadata": {
  "kernelspec": {
   "display_name": "Python 3",
   "language": "python",
   "name": "python3"
  },
  "language_info": {
   "codemirror_mode": {
    "name": "ipython",
    "version": 3
   },
   "file_extension": ".py",
   "mimetype": "text/x-python",
   "name": "python",
   "nbconvert_exporter": "python",
   "pygments_lexer": "ipython3",
   "version": "3.7.9"
  }
 },
 "nbformat": 4,
 "nbformat_minor": 4
}
