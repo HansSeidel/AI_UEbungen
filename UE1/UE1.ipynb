{
 "cells": [
  {
   "cell_type": "code",
   "execution_count": 53,
   "metadata": {
    "scrolled": true
   },
   "outputs": [
    {
     "name": "stdout",
     "output_type": "stream",
     "text": [
      "12\n",
      "INFO: String was ignored by function\n",
      "12\n",
      "72\n",
      "24\n",
      "INFO: String was ignored by function\n",
      "360\n",
      "INFO: String was ignored by function\n",
      "1\n",
      "1\n",
      "4\n"
     ]
    }
   ],
   "source": [
    "from collections.abc import Iterable\n",
    "#Checking types\n",
    "c = \"Hello world\"\n",
    "e = [1, 2, 3]\n",
    "f = (1, 2, 3)\n",
    "g = {1, 1, 1, 2}\n",
    "h = {1: 10, 2: 'Two', 3: 3}\n",
    "SHOW_INFO = 1 #true\n",
    "SHOW_WARNING = 0 #false\n",
    "\n",
    "def multiply(*args):\n",
    "    #Keep in mind: This method doesn't prevent endless loops.\n",
    "    result = 1\n",
    "    #Perfomance technical if\n",
    "    if len(args) <= 1:\n",
    "        if len(args) == 0:\n",
    "            if SHOW_WARNING: print(\"WARNING: Actually result is zero. Out of safety reasons this function returns 1.\")\n",
    "            return 1\n",
    "        else:\n",
    "            if type(args[0]) is str:\n",
    "                    if SHOW_INFO: print(\"INFO: String was ignored by function\")\n",
    "                    if SHOW_WARNING: print(\"WARNING: Actually result is zero. Out of safety reasons this function returns 1.\")\n",
    "                    return 1;\n",
    "            else:\n",
    "                if isinstance(args[0], Iterable):\n",
    "                    args = args[0]\n",
    "                else:\n",
    "                    return args[0]\n",
    "    for item in args:\n",
    "        if type(args) is dict:\n",
    "            item = args[item]\n",
    "        if type(item) is str:\n",
    "            if SHOW_INFO: print(\"INFO: String was ignored by function\")\n",
    "        else:\n",
    "            if type(item) is dict:\n",
    "                result *= multiply(item)\n",
    "            else:\n",
    "                if type(item) is tuple or type(item) is list:\n",
    "                    result *= multiply(item)\n",
    "                else:\n",
    "                    if type(item) is set:\n",
    "                        if SHOW_WARNING: print(\"WARNING: Multiplying a set will not multiply duplicates\")\n",
    "                        result *= multiply(item)\n",
    "                    else:\n",
    "                        result *= item\n",
    "    return result\n",
    "\n",
    "a = 3\n",
    "b = 4\n",
    "\n",
    "\n",
    "print(multiply(a,b))  #12\n",
    "print(multiply(a,b,c))#12\n",
    "print(multiply(a,b,e))#72\n",
    "print(multiply(a,b,g))#24\n",
    "print(multiply(a,b,h))#360\n",
    "print(multiply(\"asd\")) #0\n",
    "print(multiply()) #0\n",
    "print(multiply(b))#4"
   ]
  },
  {
   "cell_type": "code",
   "execution_count": 57,
   "metadata": {},
   "outputs": [
    {
     "name": "stdout",
     "output_type": "stream",
     "text": [
      "1\n",
      "1\n",
      "2\n",
      "3\n"
     ]
    }
   ],
   "source": [
    "a = [1, 1, 2, 3, 5, 8, 13, 21, 34, 55, 89]\n",
    "\n",
    "def print_below_list(limiter, var_list):\n",
    "    for item in var_list:\n",
    "        if item < limiter: print(item)\n",
    "            \n",
    "print_below_list(5,a)\n",
    "    "
   ]
  },
  {
   "cell_type": "code",
   "execution_count": 61,
   "metadata": {},
   "outputs": [
    {
     "name": "stdout",
     "output_type": "stream",
     "text": [
      "a is:  [43, 69, 84, 16, 4, 1, 25, 61, 93, 42]\n",
      "b is:  [40, 93, 49, 24, 15, 77, 16, 14, 36, 50, 38, 46]\n",
      "20 ,  22\n",
      "[1, 4, 14, 15, 16, 24, 25, 36, 38, 40, 42, 43, 46, 49, 50, 61, 69, 77, 84, 93]\n"
     ]
    }
   ],
   "source": [
    "import random\n",
    "a = random.sample(range(1, 100), 10)\n",
    "b = random.sample(range(1, 100), 12)\n",
    "print (\"a is: \", a)\n",
    "print (\"b is: \", b)\n",
    "\n",
    "def combine_and_unified_list(list_a,list_b):\n",
    "    return list(set(list_a+list_b))\n",
    "\n",
    "combined_list = combine_and_unified_list(a,b)\n",
    "print(len(combined_list),\", \",(len(a)+(len(b))))\n",
    "print(combined_list)\n",
    "      "
   ]
  },
  {
   "cell_type": "code",
   "execution_count": 64,
   "metadata": {},
   "outputs": [
    {
     "name": "stdout",
     "output_type": "stream",
     "text": [
      "93\n"
     ]
    }
   ],
   "source": [
    "def getMax(*args):\n",
    "    result = args[0];\n",
    "    for item in args:\n",
    "        result = item > result and item or result\n",
    "    return result\n",
    "\n",
    "print(getMax(43, 69, 84, 16, 4, 1, 25, 61, 93, 42))"
   ]
  },
  {
   "cell_type": "code",
   "execution_count": null,
   "metadata": {},
   "outputs": [],
   "source": []
  }
 ],
 "metadata": {
  "kernelspec": {
   "display_name": "Python 3",
   "language": "python",
   "name": "python3"
  },
  "language_info": {
   "codemirror_mode": {
    "name": "ipython",
    "version": 3
   },
   "file_extension": ".py",
   "mimetype": "text/x-python",
   "name": "python",
   "nbconvert_exporter": "python",
   "pygments_lexer": "ipython3",
   "version": "3.7.9"
  }
 },
 "nbformat": 4,
 "nbformat_minor": 4
}
