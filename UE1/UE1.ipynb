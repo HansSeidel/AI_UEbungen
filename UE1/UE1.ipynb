{
 "cells": [
  {
   "cell_type": "code",
   "execution_count": 34,
   "metadata": {},
   "outputs": [
    {
     "name": "stdout",
     "output_type": "stream",
     "text": [
      "True\n",
      "True\n",
      "True\n",
      "True\n",
      "True\n",
      "is iteratble\n"
     ]
    }
   ],
   "source": [
    "#Checking types\n",
    "c = \"Hello world\"\n",
    "e = [1, 2, 3]\n",
    "f = (1, 2, 3)\n",
    "g = {1, 1, 1, 2}\n",
    "h = {1: 'One', 2: 'Two', 3: 'Three'}\n",
    "print(type(c) is str)\n",
    "print(type(e) is list)\n",
    "print(type(f) is tuple)\n",
    "print(type(g) is set)\n",
    "print(type(h) is dict)\n",
    "\n",
    "if type(f) is tuple or type(f) is list:\n",
    "    print(\"is iteratble\")\n",
    "\n",
    "#for item in h:\n",
    "#    print(h[item])\n",
    "    \n",
    "\n",
    "#def multiply(*arg):\n",
    "#    result = 1\n",
    "#    #Perfomance technical if\n",
    "#    if len(locals()) <= 1:\n",
    "#        return len(locals()) == 0? 0:1\n",
    "#    for item in *arg\n",
    "#        if type(*arg) is tuple or type(*arg) is list\n",
    "#            multiply(arg)\n",
    "#        else\n",
    "#            result *= item\n",
    "#    return result"
   ]
  },
  {
   "cell_type": "code",
   "execution_count": null,
   "metadata": {},
   "outputs": [],
   "source": []
  },
  {
   "cell_type": "code",
   "execution_count": null,
   "metadata": {},
   "outputs": [],
   "source": []
  }
 ],
 "metadata": {
  "kernelspec": {
   "display_name": "Python 3",
   "language": "python",
   "name": "python3"
  },
  "language_info": {
   "codemirror_mode": {
    "name": "ipython",
    "version": 3
   },
   "file_extension": ".py",
   "mimetype": "text/x-python",
   "name": "python",
   "nbconvert_exporter": "python",
   "pygments_lexer": "ipython3",
   "version": "3.7.9"
  }
 },
 "nbformat": 4,
 "nbformat_minor": 4
}
