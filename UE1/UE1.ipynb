{
 "cells": [
  {
   "cell_type": "code",
   "execution_count": 30,
   "metadata": {
    "scrolled": true
   },
   "outputs": [
    {
     "name": "stdout",
     "output_type": "stream",
     "text": [
      "12\n",
      "INFO: String was ignored by function\n",
      "12\n",
      "72\n",
      "WARNING: Multiplying a set will not multiply duplicates\n",
      "24\n",
      "INFO: String was ignored by function\n",
      "360\n"
     ]
    }
   ],
   "source": [
    "#Checking types\n",
    "c = \"Hello world\"\n",
    "e = [1, 2, 3]\n",
    "f = (1, 2, 3)\n",
    "g = {1, 1, 1, 2}\n",
    "h = {1: 10, 2: 'Two', 3: 3}\n",
    "\n",
    "\n",
    "def multiply(*args):\n",
    "    #Keep in mind: This method doesn't prevent endless loops.\n",
    "    result = 1\n",
    "    #Perfomance technical if\n",
    "    if len(args) <= 1:\n",
    "        args = len(locals()) == 0 and 0 or args[0]\n",
    "    for item in args:\n",
    "        if type(args) is dict:\n",
    "            item = args[item]\n",
    "        if type(item) is str:\n",
    "            print(\"INFO: String was ignored by function\")\n",
    "        else:\n",
    "            if type(item) is dict:\n",
    "                result *= multiply(item)\n",
    "            else:\n",
    "                if type(item) is tuple or type(item) is list:\n",
    "                    result *= multiply(item)\n",
    "                else:\n",
    "                    if type(item) is set:\n",
    "                        print(\"WARNING: Multiplying a set will not multiply duplicates\")\n",
    "                        result *= multiply(item)\n",
    "                    else:\n",
    "                        result *= item\n",
    "    return result\n",
    "\n",
    "a = 3\n",
    "b = 4\n",
    "\n",
    "\n",
    "print(multiply(a,b))  #12\n",
    "print(multiply(a,b,c))#12\n",
    "print(multiply(a,b,e))#72\n",
    "print(multiply(a,b,g))#24\n",
    "print(multiply(a,b,h))#360"
   ]
  },
  {
   "cell_type": "code",
   "execution_count": null,
   "metadata": {},
   "outputs": [],
   "source": []
  }
 ],
 "metadata": {
  "kernelspec": {
   "display_name": "Python 3",
   "language": "python",
   "name": "python3"
  },
  "language_info": {
   "codemirror_mode": {
    "name": "ipython",
    "version": 3
   },
   "file_extension": ".py",
   "mimetype": "text/x-python",
   "name": "python",
   "nbconvert_exporter": "python",
   "pygments_lexer": "ipython3",
   "version": "3.7.9"
  }
 },
 "nbformat": 4,
 "nbformat_minor": 4
}
