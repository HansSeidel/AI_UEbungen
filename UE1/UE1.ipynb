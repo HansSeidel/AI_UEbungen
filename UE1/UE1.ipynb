{
 "cells": [
  {
   "cell_type": "code",
   "execution_count": 53,
   "metadata": {
    "scrolled": true
   },
   "outputs": [
    {
     "name": "stdout",
     "output_type": "stream",
     "text": [
      "12\n",
      "INFO: String was ignored by function\n",
      "12\n",
      "72\n",
      "24\n",
      "INFO: String was ignored by function\n",
      "360\n",
      "INFO: String was ignored by function\n",
      "1\n",
      "1\n",
      "4\n"
     ]
    }
   ],
   "source": [
    "from collections.abc import Iterable\n",
    "#Checking types\n",
    "c = \"Hello world\"\n",
    "e = [1, 2, 3]\n",
    "f = (1, 2, 3)\n",
    "g = {1, 1, 1, 2}\n",
    "h = {1: 10, 2: 'Two', 3: 3}\n",
    "SHOW_INFO = 1 #true\n",
    "SHOW_WARNING = 0 #false\n",
    "\n",
    "def multiply(*args):\n",
    "    #Keep in mind: This method doesn't prevent endless loops.\n",
    "    result = 1\n",
    "    #Perfomance technical if\n",
    "    if len(args) <= 1:\n",
    "        if len(args) == 0:\n",
    "            if SHOW_WARNING: print(\"WARNING: Actually result is zero. Out of safety reasons this function returns 1.\")\n",
    "            return 1\n",
    "        else:\n",
    "            if type(args[0]) is str:\n",
    "                    if SHOW_INFO: print(\"INFO: String was ignored by function\")\n",
    "                    if SHOW_WARNING: print(\"WARNING: Actually result is zero. Out of safety reasons this function returns 1.\")\n",
    "                    return 1;\n",
    "            else:\n",
    "                if isinstance(args[0], Iterable):\n",
    "                    args = args[0]\n",
    "                else:\n",
    "                    return args[0]\n",
    "    for item in args:\n",
    "        if type(args) is dict:\n",
    "            item = args[item]\n",
    "        if type(item) is str:\n",
    "            if SHOW_INFO: print(\"INFO: String was ignored by function\")\n",
    "        else:\n",
    "            if type(item) is dict:\n",
    "                result *= multiply(item)\n",
    "            else:\n",
    "                if type(item) is tuple or type(item) is list:\n",
    "                    result *= multiply(item)\n",
    "                else:\n",
    "                    if type(item) is set:\n",
    "                        if SHOW_WARNING: print(\"WARNING: Multiplying a set will not multiply duplicates\")\n",
    "                        result *= multiply(item)\n",
    "                    else:\n",
    "                        result *= item\n",
    "    return result\n",
    "\n",
    "a = 3\n",
    "b = 4\n",
    "\n",
    "\n",
    "print(multiply(a,b))  #12\n",
    "print(multiply(a,b,c))#12\n",
    "print(multiply(a,b,e))#72\n",
    "print(multiply(a,b,g))#24\n",
    "print(multiply(a,b,h))#360\n",
    "print(multiply(\"asd\")) #0\n",
    "print(multiply()) #0\n",
    "print(multiply(b))#4"
   ]
  },
  {
   "cell_type": "code",
   "execution_count": 56,
   "metadata": {},
   "outputs": [
    {
     "ename": "TypeError",
     "evalue": "print_below_list() missing 1 required positional argument: 'var_list'",
     "output_type": "error",
     "traceback": [
      "\u001b[1;31m---------------------------------------------------------------------------\u001b[0m",
      "\u001b[1;31mTypeError\u001b[0m                                 Traceback (most recent call last)",
      "\u001b[1;32m<ipython-input-56-2aa92d4a3a5a>\u001b[0m in \u001b[0;36m<module>\u001b[1;34m\u001b[0m\n\u001b[0;32m      5\u001b[0m         \u001b[1;32mif\u001b[0m \u001b[0mitem\u001b[0m \u001b[1;33m<\u001b[0m \u001b[0mlimiter\u001b[0m\u001b[1;33m:\u001b[0m \u001b[0mprint\u001b[0m\u001b[1;33m(\u001b[0m\u001b[0mitem\u001b[0m\u001b[1;33m)\u001b[0m\u001b[1;33m\u001b[0m\u001b[1;33m\u001b[0m\u001b[0m\n\u001b[0;32m      6\u001b[0m \u001b[1;33m\u001b[0m\u001b[0m\n\u001b[1;32m----> 7\u001b[1;33m \u001b[0mprint_below_list\u001b[0m\u001b[1;33m(\u001b[0m\u001b[0ma\u001b[0m\u001b[1;33m)\u001b[0m\u001b[1;33m\u001b[0m\u001b[1;33m\u001b[0m\u001b[0m\n\u001b[0m\u001b[0;32m      8\u001b[0m \u001b[1;33m\u001b[0m\u001b[0m\n",
      "\u001b[1;31mTypeError\u001b[0m: print_below_list() missing 1 required positional argument: 'var_list'"
     ]
    }
   ],
   "source": [
    "a = [1, 1, 2, 3, 5, 8, 13, 21, 34, 55, 89]\n",
    "\n",
    "def print_below_list(limiter, var_list):\n",
    "    for item in var_list:\n",
    "        if item < limiter: print(item)\n",
    "            \n",
    "print_below_list(5,a)\n",
    "    "
   ]
  },
  {
   "cell_type": "code",
   "execution_count": null,
   "metadata": {},
   "outputs": [],
   "source": []
  }
 ],
 "metadata": {
  "kernelspec": {
   "display_name": "Python 3",
   "language": "python",
   "name": "python3"
  },
  "language_info": {
   "codemirror_mode": {
    "name": "ipython",
    "version": 3
   },
   "file_extension": ".py",
   "mimetype": "text/x-python",
   "name": "python",
   "nbconvert_exporter": "python",
   "pygments_lexer": "ipython3",
   "version": "3.7.9"
  }
 },
 "nbformat": 4,
 "nbformat_minor": 4
}
