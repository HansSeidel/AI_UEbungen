{
 "cells": [
  {
   "cell_type": "code",
   "execution_count": 1,
   "metadata": {},
   "outputs": [
    {
     "name": "stdout",
     "output_type": "stream",
     "text": [
      "{2, 3, 5, 7, 11, 13, 17, 19, 23, 29, 31, 37, 41, 43, 47, 53, 59, 61, 67, 71, 73, 79, 83, 89, 97}\n"
     ]
    }
   ],
   "source": [
    "import random\n",
    "from kanren import isvar, run, membero, lall\n",
    "from kanren.core import success, fail, goaleval, condeseq, eq, var\n",
    "from sympy.ntheory.generate import prime, isprime\n",
    "import itertools as it\n",
    "\n",
    "def prime_check(x):\n",
    "    if isvar(x):\n",
    "        return condeseq([(eq,x,p)] for p in map(prime, it.count(1)))\n",
    "    else:\n",
    "        return success if isprime(x) else fail\n",
    "\n",
    "x = var()\n",
    "#EXC\n",
    "print(set(run(0,x,(membero,x,random.sample(range(1, 101), 100)),(prime_check,x))))"
   ]
  },
  {
   "cell_type": "code",
   "execution_count": 3,
   "metadata": {},
   "outputs": [
    {
     "name": "stderr",
     "output_type": "stream",
     "text": [
      "UsageError: Line magic function `%memeit` not found.\n"
     ]
    }
   ],
   "source": [
    "%%time\n",
    "%memeit print((run(1000,x,prime_check(x))))"
   ]
  },
  {
   "cell_type": "code",
   "execution_count": 4,
   "metadata": {},
   "outputs": [
    {
     "name": "stdout",
     "output_type": "stream",
     "text": [
      "((('Steve', 'France', 'dog', 'blue'), ('Jack', 'Canada', 'cat', ~_11), ('Matthew', 'USA', ~_12, ~_13), ('Alfred', 'Australia', ~_15, 'black')), (('Jack', 'Canada', 'cat', ~_11), ('Steve', 'France', 'dog', 'blue'), ('Matthew', 'USA', ~_12, ~_13), ('Alfred', 'Australia', ~_15, 'black')), (('Jack', 'Canada', 'cat', ~_11), ('Matthew', 'USA', ~_12, ~_13), ('Steve', 'France', 'dog', 'blue'), ('Alfred', 'Australia', ~_15, 'black')), (('Jack', 'Canada', 'cat', ~_11), ('Matthew', 'USA', ~_12, ~_13), ('Alfred', 'Australia', ~_15, 'black'), ('Steve', 'France', 'dog', 'blue')), (('Steve', 'France', 'dog', 'blue'), ('Matthew', 'USA', ~_12, ~_13), ('Jack', 'Canada', 'cat', ~_11), ('Alfred', 'Australia', ~_15, 'black')), (('Matthew', 'USA', ~_12, ~_13), ('Steve', 'France', 'dog', 'blue'), ('Jack', 'Canada', 'cat', ~_11), ('Alfred', 'Australia', ~_15, 'black')), (('Matthew', 'USA', ~_12, ~_13), ('Jack', 'Canada', 'cat', ~_11), ('Steve', 'France', 'dog', 'blue'), ('Alfred', 'Australia', ~_15, 'black')), (('Matthew', 'USA', ~_12, ~_13), ('Jack', 'Canada', 'cat', ~_11), ('Alfred', 'Australia', ~_15, 'black'), ('Steve', 'France', 'dog', 'blue')), (('Steve', 'France', 'dog', 'blue'), ('Matthew', 'USA', ~_12, ~_13), ('Alfred', 'Australia', ~_15, 'black'), ('Jack', 'Canada', 'cat', ~_11)), (('Matthew', 'USA', ~_12, ~_13), ('Steve', 'France', 'dog', 'blue'), ('Alfred', 'Australia', ~_15, 'black'), ('Jack', 'Canada', 'cat', ~_11)), (('Matthew', 'USA', ~_12, ~_13), ('Alfred', 'Australia', ~_15, 'black'), ('Steve', 'France', 'dog', 'blue'), ('Jack', 'Canada', 'cat', ~_11)), (('Matthew', 'USA', ~_12, ~_13), ('Alfred', 'Australia', ~_15, 'black'), ('Jack', 'Canada', 'cat', ~_11), ('Steve', 'France', 'dog', 'blue')), (('Steve', 'France', 'dog', 'blue'), ('Jack', 'Canada', 'cat', ~_11), ('Alfred', 'Australia', ~_15, 'black'), ('Matthew', 'USA', ~_12, ~_13)), (('Jack', 'Canada', 'cat', ~_11), ('Steve', 'France', 'dog', 'blue'), ('Alfred', 'Australia', ~_15, 'black'), ('Matthew', 'USA', ~_12, ~_13)), (('Jack', 'Canada', 'cat', ~_11), ('Alfred', 'Australia', ~_15, 'black'), ('Steve', 'France', 'dog', 'blue'), ('Matthew', 'USA', ~_12, ~_13)), (('Jack', 'Canada', 'cat', ~_11), ('Alfred', 'Australia', ~_15, 'black'), ('Matthew', 'USA', ~_12, ~_13), ('Steve', 'France', 'dog', 'blue')), (('Steve', 'France', 'dog', 'blue'), ('Alfred', 'Australia', ~_15, 'black'), ('Jack', 'Canada', 'cat', ~_11), ('Matthew', 'USA', ~_12, ~_13)), (('Alfred', 'Australia', ~_15, 'black'), ('Steve', 'France', 'dog', 'blue'), ('Jack', 'Canada', 'cat', ~_11), ('Matthew', 'USA', ~_12, ~_13)), (('Alfred', 'Australia', ~_15, 'black'), ('Jack', 'Canada', 'cat', ~_11), ('Steve', 'France', 'dog', 'blue'), ('Matthew', 'USA', ~_12, ~_13)), (('Alfred', 'Australia', ~_15, 'black'), ('Jack', 'Canada', 'cat', ~_11), ('Matthew', 'USA', ~_12, ~_13), ('Steve', 'France', 'dog', 'blue')), (('Steve', 'France', 'dog', 'blue'), ('Alfred', 'Australia', ~_15, 'black'), ('Matthew', 'USA', ~_12, ~_13), ('Jack', 'Canada', 'cat', ~_11)), (('Alfred', 'Australia', ~_15, 'black'), ('Steve', 'France', 'dog', 'blue'), ('Matthew', 'USA', ~_12, ~_13), ('Jack', 'Canada', 'cat', ~_11)), (('Alfred', 'Australia', ~_15, 'black'), ('Matthew', 'USA', ~_12, ~_13), ('Steve', 'France', 'dog', 'blue'), ('Jack', 'Canada', 'cat', ~_11)), (('Alfred', 'Australia', ~_15, 'black'), ('Matthew', 'USA', ~_12, ~_13), ('Jack', 'Canada', 'cat', ~_11), ('Steve', 'France', 'dog', 'blue')))\n",
      "[]\n"
     ]
    }
   ],
   "source": [
    "from kanren import Relation, facts, conde, lall, membero\n",
    "x = var()\n",
    "\n",
    "cars = var()\n",
    "\n",
    "rules = lall(\n",
    "    (eq,(var(),var(),var(),var()),cars),\n",
    "    \n",
    "    (membero,(\"Steve\",var(),var(),\"blue\"),cars),\n",
    "    (membero,(var(),\"Canada\",\"cat\",var()),cars),\n",
    "    (membero,(\"Matthew\",\"USA\",var(),var()),cars),\n",
    "    (membero,(var(),\"Australia\",var(),\"black\"),cars),\n",
    "    (membero,(\"Jack\",var(),\"cat\",var()),cars),\n",
    "    (membero,(\"Alfred\",\"Australia\",var(),var()),cars),\n",
    "    (membero,(var(),\"France\",\"dog\",var()),cars)\n",
    "    #Jack lives in canada and has a cat\n",
    "    #Steve drives a blue car\n",
    "    #Matther lives in the USA\n",
    "    #Alefred lives in Austrialia and drives a black car\n",
    "    #The france guy has a dog\n",
    "    #Steve, Matthew or Alfred could have a rabbit\n",
    ")\n",
    "#print(rules)\n",
    "solutions = run(0,cars,rules)\n",
    "print(solutions)\n",
    "output = [car for car in solutions[0] if 'rabbit' in car]\n",
    "print(output)"
   ]
  },
  {
   "cell_type": "code",
   "execution_count": null,
   "metadata": {},
   "outputs": [],
   "source": []
  }
 ],
 "metadata": {
  "kernelspec": {
   "display_name": "Python 3",
   "language": "python",
   "name": "python3"
  },
  "language_info": {
   "codemirror_mode": {
    "name": "ipython",
    "version": 3
   },
   "file_extension": ".py",
   "mimetype": "text/x-python",
   "name": "python",
   "nbconvert_exporter": "python",
   "pygments_lexer": "ipython3",
   "version": "3.8.6"
  }
 },
 "nbformat": 4,
 "nbformat_minor": 4
}
