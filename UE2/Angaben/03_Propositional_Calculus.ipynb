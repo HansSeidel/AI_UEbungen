{
 "cells": [
  {
   "cell_type": "markdown",
   "metadata": {
    "colab_type": "text",
    "id": "V8-yl-s-WKMG"
   },
   "source": [
    "Propositional Calculus (iPython Notebook)\n",
    "==================================\n",
    "The following code examples are related to the logic-based AI. Useful Python packages are \"kanren\" and \"sympy\"."
   ]
  },
  {
   "cell_type": "code",
   "execution_count": 1,
   "metadata": {},
   "outputs": [],
   "source": [
    "# install packages once, e.g. via command shell:\n",
    "# > pip install kanren\n",
    "# > pip install sympy"
   ]
  },
  {
   "cell_type": "markdown",
   "metadata": {},
   "source": [
    "Example 1: Checking for Prime Numbers\n",
    "--------------------------------------------------------\n",
    "With the help of logic programming, we can find the prime numbers from a list of numbers and can also generate prime numbers. The Python code given below will find the prime number from a list of numbers and will also generate the first 10 prime numbers."
   ]
  },
  {
   "cell_type": "code",
   "execution_count": 6,
   "metadata": {},
   "outputs": [],
   "source": [
    "# import necessary packages\n",
    "from kanren import isvar, run, membero\n",
    "from kanren.core import success, fail, goaleval, condeseq, eq, var\n",
    "from sympy.ntheory.generate import prime, isprime\n",
    "import itertools as it"
   ]
  },
  {
   "cell_type": "code",
   "execution_count": 7,
   "metadata": {},
   "outputs": [],
   "source": [
    "# define function to check the prime numbers based on the given numbers as data\n",
    "def prime_check(x):\n",
    "    if isvar(x):\n",
    "        return condeseq([(eq,x,p)] for p in map(prime, it.count(1)))\n",
    "    else:\n",
    "        return success if isprime(x) else fail"
   ]
  },
  {
   "cell_type": "code",
   "execution_count": 8,
   "metadata": {},
   "outputs": [
    {
     "name": "stdout",
     "output_type": "stream",
     "text": [
      "{41, 19, 29, 23}\n",
      "(2, 3, 5, 7, 11, 13, 17, 19, 23, 29)\n"
     ]
    }
   ],
   "source": [
    "x = var()\n",
    "\n",
    "# print all the prime numbers of a given list\n",
    "print((set(run(0,x,(membero,x,(12,14,15,19,20,21,22,23,29,30,41,44,52,62,65,85)),\n",
    "(prime_check,x)))))\n",
    "\n",
    "# print first 10 prime numbers\n",
    "print((run(10,x,prime_check(x))))"
   ]
  },
  {
   "cell_type": "markdown",
   "metadata": {},
   "source": [
    "### Exercise 3.1: Generate a list with 100 random numbers between 0 and 100 and print the prime numbers.\n",
    "### Exercise 3.2: Calculate the first 1.000 prime numbers and examine the memory usage as well as the runtime behavior during the processing."
   ]
  },
  {
   "cell_type": "markdown",
   "metadata": {},
   "source": [
    "Example 2: Solving Puzzles\n",
    "--------------------------------------\n",
    "Logic programming can be used to solve many problems like 8-puzzles, Zebra puzzle, Sudoku, N-queen, etc. Here we are taking an example of a variant of Zebra puzzle which is as follows:\n",
    "\n",
    "* There are five houses.\n",
    "* The English man lives in the red house.\n",
    "* The Swede has a dog.\n",
    "* The Dane drinks tea.\n",
    "* The green house is immediately to the left of the white house.\n",
    "* They drink coffee in the green house.\n",
    "* The man who smokes Pall Mall has birds.\n",
    "* In the yellow house they smoke Dunhill.\n",
    "* In the middle house they drink milk.\n",
    "* The Norwegian lives in the first house.\n",
    "* The man who smokes Blend lives in the house next to the house with cats.\n",
    "* In a house next to the house where they have a horse, they smoke Dunhill.\n",
    "* The man who smokes Blue Master drinks beer.\n",
    "* The German smokes Prince.\n",
    "* The Norwegian lives next to the blue house.\n",
    "* They drink water in a house next to the house where they smoke Blend.\n",
    "\n",
    "Question: Who owns the zebra?"
   ]
  },
  {
   "cell_type": "code",
   "execution_count": 9,
   "metadata": {},
   "outputs": [],
   "source": [
    "# import packages\n",
    "from kanren import *\n",
    "from kanren.core import lall\n",
    "import time"
   ]
  },
  {
   "cell_type": "code",
   "execution_count": 10,
   "metadata": {},
   "outputs": [],
   "source": [
    "# defining two function to check whose house is left or next to one's house\n",
    "def left(q, p, list):\n",
    "    return membero((q,p), zip(list, list[1:]))\n",
    "def next(q, p, list):\n",
    "    return conde([left(q, p, list)], [left(p, q, list)])"
   ]
  },
  {
   "cell_type": "code",
   "execution_count": 11,
   "metadata": {},
   "outputs": [],
   "source": [
    "# define root variable for the houses\n",
    "houses = var()\n",
    "\n",
    "# formalize rules using lall (kanren core) in order to build a knowledge base\n",
    "rules_zebraproblem = lall(\n",
    "    (eq, (var(), var(), var(), var(), var()), houses),\n",
    "\n",
    "    (membero,('Englishman', var(), var(), var(), 'red'), houses),\n",
    "    (membero,('Swede', var(), var(), 'dog', var()), houses),\n",
    "    (membero,('Dane', var(), 'tea', var(), var()), houses),\n",
    "    (left,(var(), var(), var(), var(), 'green'),\n",
    "    (var(), var(), var(), var(), 'white'), houses),\n",
    "    (membero,(var(), var(), 'coffee', var(), 'green'), houses),\n",
    "    (membero,(var(), 'Pall Mall', var(), 'birds', var()), houses),\n",
    "    (membero,(var(), 'Dunhill', var(), var(), 'yellow'), houses),\n",
    "    (eq,(var(), var(), (var(), var(), 'milk', var(), var()), var(), var()), houses),\n",
    "    (eq,(('Norwegian', var(), var(), var(), var()), var(), var(), var(), var()), houses),\n",
    "    (next,(var(), 'Blend', var(), var(), var()),\n",
    "    (var(), var(), var(), 'cats', var()), houses),\n",
    "    (next,(var(), 'Dunhill', var(), var(), var()),\n",
    "    (var(), var(), var(), 'horse', var()), houses),\n",
    "    (membero,(var(), 'Blue Master', 'beer', var(), var()), houses),\n",
    "    (membero,('German', 'Prince', var(), var(), var()), houses),\n",
    "    (next,('Norwegian', var(), var(), var(), var()),\n",
    "    (var(), var(), var(), var(), 'blue'), houses),\n",
    "    (next,(var(), 'Blend', var(), var(), var()),\n",
    "    (var(), var(), 'water', var(), var()), houses),\n",
    "    (membero,(var(), var(), var(), 'zebra', var()), houses)\n",
    ")"
   ]
  },
  {
   "cell_type": "code",
   "execution_count": 12,
   "metadata": {},
   "outputs": [
    {
     "name": "stdout",
     "output_type": "stream",
     "text": [
      "(<function lallgreedy at 0x000002BCA53AFE58>, (<function eq at 0x000002BCA53AFD38>, (~_18, ~_19, ~_20, ~_21, ~_22), ~_17), (<function eq at 0x000002BCA53AFD38>, (~_49, ~_50, (~_51, ~_52, 'milk', ~_53, ~_54), ~_55, ~_56), ~_17), (<function eq at 0x000002BCA53AFD38>, (('Norwegian', ~_57, ~_58, ~_59, ~_60), ~_61, ~_62, ~_63, ~_64), ~_17), (<function lall at 0x000002BCA53AFDC8>, (<function membero at 0x000002BCA53B5678>, ('Englishman', ~_23, ~_24, ~_25, 'red'), ~_17), (<function membero at 0x000002BCA53B5678>, ('Swede', ~_26, ~_27, 'dog', ~_28), ~_17), (<function membero at 0x000002BCA53B5678>, ('Dane', ~_29, 'tea', ~_30, ~_31), ~_17), (<function left at 0x000002BCA41C3EE8>, (~_32, ~_33, ~_34, ~_35, 'green'), (~_36, ~_37, ~_38, ~_39, 'white'), ~_17), (<function membero at 0x000002BCA53B5678>, (~_40, ~_41, 'coffee', ~_42, 'green'), ~_17), (<function membero at 0x000002BCA53B5678>, (~_43, 'Pall Mall', ~_44, 'birds', ~_45), ~_17), (<function membero at 0x000002BCA53B5678>, (~_46, 'Dunhill', ~_47, ~_48, 'yellow'), ~_17), (<function next at 0x000002BCA41C3828>, (~_65, 'Blend', ~_66, ~_67, ~_68), (~_69, ~_70, ~_71, 'cats', ~_72), ~_17), (<function next at 0x000002BCA41C3828>, (~_73, 'Dunhill', ~_74, ~_75, ~_76), (~_77, ~_78, ~_79, 'horse', ~_80), ~_17), (<function membero at 0x000002BCA53B5678>, (~_81, 'Blue Master', 'beer', ~_82, ~_83), ~_17), (<function membero at 0x000002BCA53B5678>, ('German', 'Prince', ~_84, ~_85, ~_86), ~_17), (<function next at 0x000002BCA41C3828>, ('Norwegian', ~_87, ~_88, ~_89, ~_90), (~_91, ~_92, ~_93, ~_94, 'blue'), ~_17), (<function next at 0x000002BCA41C3828>, (~_95, 'Blend', ~_96, ~_97, ~_98), (~_99, ~_100, 'water', ~_101, ~_102), ~_17), (<function membero at 0x000002BCA53B5678>, (~_103, ~_104, ~_105, 'zebra', ~_106), ~_17)))\n"
     ]
    }
   ],
   "source": [
    "# print knowledge base\n",
    "print(rules_zebraproblem)"
   ]
  },
  {
   "cell_type": "code",
   "execution_count": 16,
   "metadata": {},
   "outputs": [
    {
     "name": "stdout",
     "output_type": "stream",
     "text": [
      "((('Norwegian', 'Dunhill', 'water', 'cats', 'yellow'), ('Dane', 'Blend', 'tea', 'horse', 'blue'), ('Englishman', 'Pall Mall', 'milk', 'birds', 'red'), ('German', 'Prince', 'coffee', 'zebra', 'green'), ('Swede', 'Blue Master', 'beer', 'dog', 'white')),)\n"
     ]
    }
   ],
   "source": [
    "# run solver with these contraints\n",
    "solutions = run(0, houses, rules_zebraproblem)\n",
    "print(solutions)"
   ]
  },
  {
   "cell_type": "code",
   "execution_count": 14,
   "metadata": {},
   "outputs": [
    {
     "name": "stdout",
     "output_type": "stream",
     "text": [
      "\n",
      "German owns zebra.\n"
     ]
    }
   ],
   "source": [
    "# extract the output from the solver\n",
    "output_zebra = [house for house in solutions[0] if 'zebra' in house][0][0]\n",
    "print ('\\n'+ output_zebra + ' owns zebra.')"
   ]
  },
  {
   "cell_type": "markdown",
   "metadata": {},
   "source": [
    "### Exercise 3.3: Solve the following questions by creating inference rules on this logic-based knowledge base: (a) Which kind of drink does the Englishman prefer? (b) Who drinks beer? (c) Which colors have the houses from left to right?\n",
    "### Exercise 3.4: Solve the following puzzle!\n",
    "* Steve has a blue car\n",
    "* The person who owns the cat lives in Canada\n",
    "* Matthew lives in USA\n",
    "* The person with the black car lives in Australia\n",
    "* Jack has a cat\n",
    "* Alfred lives in Australia\n",
    "* The person who has a dog lives in France\n",
    "\n",
    "Who has a rabbit?"
   ]
  },
  {
   "cell_type": "code",
   "execution_count": null,
   "metadata": {},
   "outputs": [],
   "source": []
  }
 ],
 "metadata": {
  "colab": {
   "default_view": {},
   "name": "object_detection_tutorial.ipynb?workspaceId=ronnyvotel:python_inference::citc",
   "provenance": [],
   "version": "0.3.2",
   "views": {}
  },
  "kernelspec": {
   "display_name": "Python 3",
   "language": "python",
   "name": "python3"
  },
  "language_info": {
   "codemirror_mode": {
    "name": "ipython",
    "version": 3
   },
   "file_extension": ".py",
   "mimetype": "text/x-python",
   "name": "python",
   "nbconvert_exporter": "python",
   "pygments_lexer": "ipython3",
   "version": "3.7.9"
  }
 },
 "nbformat": 4,
 "nbformat_minor": 1
}
