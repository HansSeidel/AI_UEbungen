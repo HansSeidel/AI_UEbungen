{
 "cells": [
  {
   "cell_type": "markdown",
   "metadata": {
    "colab_type": "text",
    "id": "V8-yl-s-WKMG"
   },
   "source": [
    "First Order Predicate Calculus (iPython Notebook)\n",
    "==========================================\n",
    "The following code examples are related to logic-based AI. Useful Python packages are \"kanren\" and \"sympy\"."
   ]
  },
  {
   "cell_type": "code",
   "execution_count": 1,
   "metadata": {},
   "outputs": [],
   "source": [
    "# install packages once, e.g. via command shell:\n",
    "# > pip install kanren\n",
    "# > pip install sympy"
   ]
  },
  {
   "cell_type": "markdown",
   "metadata": {},
   "source": [
    "Example 1: Parsing a Family Tree\n",
    "----------------------------------------------\n",
    "A traditional example for the application of predicate calculus is building and reasoning a family tree. In the following the Simpson family is used as a simple example. Based on the facts (which we all know), we can create a program that can tell us facts about the Simpsons. Even though we have not explicitly specified anything about the grandparent relationship, logic programming can infer them."
   ]
  },
  {
   "cell_type": "code",
   "execution_count": 2,
   "metadata": {},
   "outputs": [],
   "source": [
    "# import libraries\n",
    "from kanren import Relation, facts, run, eq, membero, var, conde"
   ]
  },
  {
   "cell_type": "code",
   "execution_count": 3,
   "metadata": {},
   "outputs": [
    {
     "name": "stdout",
     "output_type": "stream",
     "text": [
      "('Homer',)\n",
      "('Lisa', 'Bart')\n"
     ]
    }
   ],
   "source": [
    "# the Simpsons...\n",
    "x = var()\n",
    "# build data strcutre with facts and relations\n",
    "parent = Relation()\n",
    "facts(parent, (\"Homer\", \"Bart\"),(\"Homer\", \"Lisa\"),(\"Abe\", \"Homer\"))\n",
    "\n",
    "# who is the father of Bart?\n",
    "print(run(1, x, parent(x, \"Bart\")))\n",
    "\n",
    "# who are the childen of Homer?\n",
    "print(run(2, x, parent(\"Homer\", x)))"
   ]
  },
  {
   "cell_type": "code",
   "execution_count": 5,
   "metadata": {},
   "outputs": [
    {
     "name": "stdout",
     "output_type": "stream",
     "text": [
      "('Abe',)\n"
     ]
    }
   ],
   "source": [
    "# now define grandparent relation as function\n",
    "x = var()\n",
    "\n",
    "# Check if 'x' is the grandparent of 'y'\n",
    "def grandparent(x, y): \n",
    "    temp = var() \n",
    "    return conde((parent(x, temp), parent(temp, y)))\n",
    "\n",
    "# who is the grandfather of Bart?\n",
    "print(run(1, x, grandparent(x, 'Bart')))"
   ]
  },
  {
   "cell_type": "markdown",
   "metadata": {},
   "source": [
    "### Exercise 4.1: Build up the following family tree given the following description. Define the following relationships (always check if 'x' is related to 'y', e.g. is 'x' the father of 'y'): father(x,y) and mother(x,y) as basic relationships; parent(x,y), gandparent(x,y), sibling(x,y), uncle(x,y)\n",
    "\n",
    "\"*John and Megan have three sons - William, David, and Adam. The wives of William, David, and Adam are Emma, Olivia, and Lily respectively. William and Emma have two children - Chris and Stephanie. David and Olivia have five children - Wayne, Tiffany, Julie, Neil, and Peter. Adam and Lily have one child - Sophia.*\"\n",
    "\n",
    "### Answer these questions through inferences on your knowledge base:\n",
    "* Who are John's children?\n",
    "* Who is William's mother?\n",
    "* Who are Adam's parents?\n",
    "* Who are Wayne's grandparents?\n",
    "* Who are David's siblings?\n",
    "* Who are Tiffaniy's uncles?\n",
    "* List all the spouses in the family!\n",
    "\n",
    "Remark: You can create the knowledge base manually or import the following JSON-based data-set."
   ]
  },
  {
   "cell_type": "code",
   "execution_count": 6,
   "metadata": {},
   "outputs": [
    {
     "name": "stdout",
     "output_type": "stream",
     "text": [
      "{'father': [{'John': 'William'}, {'John': 'David'}, {'John': 'Adam'}, {'William': 'Chris'}, {'William': 'Stephanie'}, {'David': 'Wayne'}, {'David': 'Tiffany'}, {'David': 'Julie'}, {'David': 'Neil'}, {'David': 'Peter'}, {'Adam': 'Sophia'}], 'mother': [{'Megan': 'William'}, {'Megan': 'David'}, {'Megan': 'Adam'}, {'Emma': 'Stephanie'}, {'Emma': 'Chris'}, {'Olivia': 'Tiffany'}, {'Olivia': 'Julie'}, {'Olivia': 'Neil'}, {'Olivia': 'Peter'}, {'Lily': 'Sophia'}]}\n"
     ]
    }
   ],
   "source": [
    "# import libraries\n",
    "import json\n",
    "from kanren import Relation, facts, run, eq, membero, var, conde\n",
    "# read in data from a JSON file (or create the knowledge base manually...)\n",
    "with open('04_relationships.json') as f: \n",
    "    d = json.loads(f.read())\n",
    "print(d)"
   ]
  },
  {
   "cell_type": "markdown",
   "metadata": {},
   "source": [
    "Example 2: Analyzing geography\n",
    "----------------------------------------------\n",
    "In this problem, we will specify information about the location of various states in the US and then query our program to answer various questions based on those facts and rules."
   ]
  },
  {
   "cell_type": "code",
   "execution_count": 1,
   "metadata": {},
   "outputs": [],
   "source": [
    "# import libraries\n",
    "from kanren import run, fact, eq, Relation, var"
   ]
  },
  {
   "cell_type": "code",
   "execution_count": 2,
   "metadata": {},
   "outputs": [],
   "source": [
    "# files to import\n",
    "file_coastal = '04_coastal_states.txt' \n",
    "file_adjacent = '04_adjacent_states.txt'\n",
    "\n",
    "# relations\n",
    "adjacent = Relation() \n",
    "coastal = Relation()\n",
    "\n",
    "# Read the file containing the coastal states \n",
    "with open(file_coastal, 'r') as f:\n",
    "    line = f.read()\n",
    "    coastal_states = line.split(',')\n",
    "# Add the info to the fact base\n",
    "for state in coastal_states:\n",
    "    fact(coastal, state)\n",
    "\n",
    "# Read the file containing the coastal states \n",
    "with open(file_adjacent, 'r') as f:\n",
    "    adjlist = [line.strip().split(',') for line in f if line and line[0].isalpha()]\n",
    "\n",
    "# Add the info to the fact base\n",
    "for L in adjlist:\n",
    "    head, tail = L[0], L[1:]\n",
    "    for state in tail:\n",
    "        fact(adjacent, head, state)\n",
    "\n",
    "# Initialize the variables for querying the knowledge base\n",
    "x = var() \n",
    "y = var()"
   ]
  },
  {
   "cell_type": "code",
   "execution_count": 6,
   "metadata": {},
   "outputs": [
    {
     "data": {
      "text/plain": [
       "('Arkansas',\n",
       " 'Georgia',\n",
       " 'Idaho',\n",
       " 'Maryland',\n",
       " 'Connecticut',\n",
       " 'Vermont',\n",
       " 'Georgia',\n",
       " 'Oregon',\n",
       " 'Virginia',\n",
       " 'Ohio',\n",
       " 'North Dakota',\n",
       " 'Florida',\n",
       " 'Louisiana',\n",
       " 'New Jersey',\n",
       " 'South Carolina',\n",
       " 'Pennsylvania',\n",
       " 'Washington',\n",
       " 'Vermont',\n",
       " 'Rhode Island',\n",
       " 'Virginia',\n",
       " 'Texas',\n",
       " 'Alabama',\n",
       " 'Oregon',\n",
       " 'Pennsylvania',\n",
       " 'Massachusetts',\n",
       " 'Maine',\n",
       " 'North Carolina',\n",
       " 'Nevada',\n",
       " 'West Virginia',\n",
       " 'Wisconsin',\n",
       " 'South Dakota',\n",
       " 'Georgia',\n",
       " 'Arkansas',\n",
       " 'Pennsylvania',\n",
       " 'Florida',\n",
       " 'Delaware',\n",
       " 'Nevada',\n",
       " 'New Hampshire',\n",
       " 'Massachusetts',\n",
       " 'Georgia',\n",
       " 'Mississippi',\n",
       " 'New Jersey',\n",
       " 'Massachusetts',\n",
       " 'Arizona',\n",
       " 'District of Columbia',\n",
       " 'Indiana',\n",
       " 'Iowa',\n",
       " 'Mississippi',\n",
       " 'New Mexico',\n",
       " 'Massachusetts',\n",
       " 'North Carolina',\n",
       " 'New York',\n",
       " 'Idaho',\n",
       " 'Rhode Island',\n",
       " 'New York',\n",
       " 'Tennessee',\n",
       " 'Delaware',\n",
       " 'Wisconsin',\n",
       " 'Tennessee',\n",
       " 'Oklahoma',\n",
       " 'Vermont',\n",
       " 'Tennessee',\n",
       " 'California',\n",
       " 'New York',\n",
       " 'South Carolina',\n",
       " 'Pennsylvania',\n",
       " 'Connecticut',\n",
       " 'Alabama',\n",
       " 'Connecticut')"
      ]
     },
     "execution_count": 6,
     "metadata": {},
     "output_type": "execute_result"
    }
   ],
   "source": [
    "# Is Nevada adjacent to Louisiana?\n",
    "#run(0, x, adjacent('Nevada', 'Louisiana')) \n",
    "run(0, x, coastal(y), adjacent(x, y))"
   ]
  },
  {
   "cell_type": "code",
   "execution_count": 10,
   "metadata": {},
   "outputs": [
    {
     "name": "stdout",
     "output_type": "stream",
     "text": [
      "\n",
      "List of 7 states that border a coastal state:\n",
      "Arkansas\n",
      "Ohio\n",
      "Connecticut\n",
      "New Mexico\n",
      "District of Columbia\n",
      "Massachusetts\n",
      "California\n"
     ]
    }
   ],
   "source": [
    "# List of 'n' states that border a coastal state \n",
    "n = 7 \n",
    "output = run(n, x, coastal(y), adjacent(x, y)) \n",
    "print('\\nList of ' + str(n) + ' states that border a coastal state:') \n",
    "for item in output: \n",
    "    print(item)"
   ]
  },
  {
   "cell_type": "markdown",
   "metadata": {},
   "source": [
    "### Exercise 4.2: (a) List all the coastal states that are adjacent to Mississippi. (b) List states that are adjacent to both Arkansas and Kentucky."
   ]
  },
  {
   "cell_type": "code",
   "execution_count": null,
   "metadata": {},
   "outputs": [],
   "source": []
  }
 ],
 "metadata": {
  "colab": {
   "default_view": {},
   "name": "object_detection_tutorial.ipynb?workspaceId=ronnyvotel:python_inference::citc",
   "provenance": [],
   "version": "0.3.2",
   "views": {}
  },
  "kernelspec": {
   "display_name": "Python 3",
   "language": "python",
   "name": "python3"
  },
  "language_info": {
   "codemirror_mode": {
    "name": "ipython",
    "version": 3
   },
   "file_extension": ".py",
   "mimetype": "text/x-python",
   "name": "python",
   "nbconvert_exporter": "python",
   "pygments_lexer": "ipython3",
   "version": "3.7.9"
  }
 },
 "nbformat": 4,
 "nbformat_minor": 1
}
