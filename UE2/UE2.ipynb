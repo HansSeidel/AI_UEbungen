{
 "cells": [
  {
   "cell_type": "code",
   "execution_count": 1,
   "metadata": {},
   "outputs": [
    {
     "data": {
      "text/plain": [
       "('Adam', 'David', 'William')"
      ]
     },
     "execution_count": 1,
     "metadata": {},
     "output_type": "execute_result"
    }
   ],
   "source": [
    "#4.1\n",
    "from kanren import Relation, facts, run, eq, membero, var, conde\n",
    "\n",
    "x = var()\n",
    "father = (\"John\",\"William\",\"David\",\"Adam\")\n",
    "mother = (\"Megan\",\"Emma\",\"Lily\",\"Olivia\")\n",
    "parent = Relation()\n",
    "\n",
    "facts(parent,     (\"John\",\"William\"),(\"John\",\"David\"),(\"John\",\"Adam\"),\n",
    "                  (\"Megan\",\"William\"),(\"Megan\",\"David\"),(\"Megan\",\"Adam\"),\n",
    "      \n",
    "                  (\"William\",\"Chris\"),(\"William\",\"Stephanie\"),\n",
    "                  (\"Emma\",\"Chris\"),(\"Emma\",\"Stephanie\"),\n",
    "      \n",
    "                  (\"David\",\"Wayne\"),(\"David\",\"Tiffany\"),(\"David\",\"Julie\"),(\"David\",\"Neil\"),(\"David\",\"Peter\"),\n",
    "                  (\"Olivia\",\"Wayne\"),(\"Olivia\",\"Tiffany\"),(\"Olivia\",\"Julie\"),(\"Olivia\",\"Neil\"),(\"Olivia\",\"Peter\"),\n",
    "      \n",
    "                  (\"Adam\",\"Sophia\"),(\"Lily\",\"Sophia\")\n",
    ")\n",
    "\n",
    "\n",
    "def grandparent(x, z):\n",
    "    y = var()\n",
    "    return conde((parent(x, y), parent(y, z)))\n",
    "y = var()\n",
    "z= var()\n",
    "run(0,x,parent(\"John\",x))"
   ]
  },
  {
   "cell_type": "code",
   "execution_count": 2,
   "metadata": {},
   "outputs": [
    {
     "data": {
      "text/plain": [
       "('Megan',)"
      ]
     },
     "execution_count": 2,
     "metadata": {},
     "output_type": "execute_result"
    }
   ],
   "source": [
    "run(1,x,parent(x,\"William\"),membero(x,mother))"
   ]
  },
  {
   "cell_type": "code",
   "execution_count": 3,
   "metadata": {},
   "outputs": [
    {
     "data": {
      "text/plain": [
       "('John', 'Megan')"
      ]
     },
     "execution_count": 3,
     "metadata": {},
     "output_type": "execute_result"
    }
   ],
   "source": [
    "run(0,x,parent(x,\"Adam\"))"
   ]
  },
  {
   "cell_type": "code",
   "execution_count": 4,
   "metadata": {},
   "outputs": [
    {
     "data": {
      "text/plain": [
       "('John', 'Megan')"
      ]
     },
     "execution_count": 4,
     "metadata": {},
     "output_type": "execute_result"
    }
   ],
   "source": [
    "run(0,x,grandparent(x,\"Wayne\"))"
   ]
  },
  {
   "cell_type": "code",
   "execution_count": 5,
   "metadata": {},
   "outputs": [
    {
     "data": {
      "text/plain": [
       "()"
      ]
     },
     "execution_count": 5,
     "metadata": {},
     "output_type": "execute_result"
    }
   ],
   "source": [
    "run(0,x,grandparent(y,x),grandparent(y,\"David\"))"
   ]
  },
  {
   "cell_type": "code",
   "execution_count": 6,
   "metadata": {},
   "outputs": [
    {
     "data": {
      "text/plain": [
       "('William', 'Adam', 'David', 'William', 'Adam', 'David')"
      ]
     },
     "execution_count": 6,
     "metadata": {},
     "output_type": "execute_result"
    }
   ],
   "source": [
    "run(0,x,grandparent(y,\"Tiffany\"),parent(y,x))#,not parent(x,\"Tiffany\") (David should be excluded)"
   ]
  },
  {
   "cell_type": "code",
   "execution_count": 7,
   "metadata": {},
   "outputs": [
    {
     "data": {
      "text/plain": [
       "(('Emma', 'William'),\n",
       " ('Olivia', 'David'),\n",
       " ('Megan', 'John'),\n",
       " ('Megan', 'John'),\n",
       " ('Megan', 'John'),\n",
       " ('Olivia', 'David'),\n",
       " ('Olivia', 'David'),\n",
       " ('Olivia', 'David'),\n",
       " ('Lily', 'Adam'),\n",
       " ('Emma', 'William'),\n",
       " ('Olivia', 'David'))"
      ]
     },
     "execution_count": 7,
     "metadata": {},
     "output_type": "execute_result"
    }
   ],
   "source": [
    "run(0,(x,y),parent(x,z),membero(x,mother),parent(y,z),membero(y,father))"
   ]
  },
  {
   "cell_type": "code",
   "execution_count": 11,
   "metadata": {},
   "outputs": [],
   "source": [
    "#4.2\n",
    "from kanren import Relation, fact, run, eq, membero, var, conde\n",
    "# files to import\n",
    "file_coastal = './Angaben/04_coastal_states.txt' \n",
    "file_adjacent = './Angaben/04_adjacent_states.txt'\n",
    "\n",
    "# relations\n",
    "adjacent = Relation() \n",
    "coastal = Relation()\n",
    "\n",
    "# Read the file containing the coastal states \n",
    "with open(file_coastal, 'r') as f:\n",
    "    line = f.read()\n",
    "    coastal_states = line.split(',')\n",
    "# Add the info to the fact base\n",
    "for state in coastal_states:\n",
    "    fact(coastal, state)\n",
    "\n",
    "# Read the file containing the coastal states \n",
    "with open(file_adjacent, 'r') as f:\n",
    "    adjlist = [line.strip().split(',') for line in f if line and line[0].isalpha()]\n",
    "    \n",
    "# Add the info to the fact base\n",
    "for L in adjlist:\n",
    "    head, tail = L[0], L[1:]\n",
    "    for state in tail:\n",
    "        fact(adjacent, head, state)\n",
    "\n",
    "# Initialize the variables for querying the knowledge base\n",
    "x = var() \n",
    "y = var()"
   ]
  },
  {
   "cell_type": "code",
   "execution_count": 9,
   "metadata": {},
   "outputs": [
    {
     "data": {
      "text/plain": [
       "('Alabama', 'Louisiana')"
      ]
     },
     "execution_count": 9,
     "metadata": {},
     "output_type": "execute_result"
    }
   ],
   "source": [
    "run(0, x, coastal(x), adjacent(x, \"Mississippi\"))"
   ]
  },
  {
   "cell_type": "code",
   "execution_count": 10,
   "metadata": {},
   "outputs": [
    {
     "data": {
      "text/plain": [
       "('Missouri', 'Tennessee')"
      ]
     },
     "execution_count": 10,
     "metadata": {},
     "output_type": "execute_result"
    }
   ],
   "source": [
    "run(0,x,adjacent(\"Arkansas\",x),adjacent(\"Kentucky\",x))"
   ]
  },
  {
   "cell_type": "code",
   "execution_count": null,
   "metadata": {},
   "outputs": [],
   "source": []
  }
 ],
 "metadata": {
  "kernelspec": {
   "display_name": "Python 3",
   "language": "python",
   "name": "python3"
  },
  "language_info": {
   "codemirror_mode": {
    "name": "ipython",
    "version": 3
   },
   "file_extension": ".py",
   "mimetype": "text/x-python",
   "name": "python",
   "nbconvert_exporter": "python",
   "pygments_lexer": "ipython3",
   "version": "3.7.9"
  }
 },
 "nbformat": 4,
 "nbformat_minor": 4
}
